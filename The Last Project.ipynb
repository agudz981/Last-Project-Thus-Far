{
 "cells": [
  {
   "cell_type": "code",
   "execution_count": 32,
   "id": "08144a28",
   "metadata": {},
   "outputs": [],
   "source": [
    "import pandas as pd\n",
    "import json\n",
    "import requests\n",
    "import base64\n",
    "import numpy as np\n",
    "from matplotlib import pyplot as plt\n",
    "from scipy import stats"
   ]
  },
  {
   "cell_type": "code",
   "execution_count": 33,
   "id": "59c7f28f",
   "metadata": {},
   "outputs": [],
   "source": [
    "keys = pd.read_csv('spotify_key', header = 0, sep=\",\")"
   ]
  },
  {
   "cell_type": "code",
   "execution_count": 34,
   "id": "d9a32e78",
   "metadata": {},
   "outputs": [
    {
     "data": {
      "text/html": [
       "<div>\n",
       "<style scoped>\n",
       "    .dataframe tbody tr th:only-of-type {\n",
       "        vertical-align: middle;\n",
       "    }\n",
       "\n",
       "    .dataframe tbody tr th {\n",
       "        vertical-align: top;\n",
       "    }\n",
       "\n",
       "    .dataframe thead th {\n",
       "        text-align: right;\n",
       "    }\n",
       "</style>\n",
       "<table border=\"1\" class=\"dataframe\">\n",
       "  <thead>\n",
       "    <tr style=\"text-align: right;\">\n",
       "      <th></th>\n",
       "      <th>Client ID</th>\n",
       "      <th>Client_Secret</th>\n",
       "    </tr>\n",
       "  </thead>\n",
       "  <tbody>\n",
       "    <tr>\n",
       "      <th>0</th>\n",
       "      <td>41073413adc84c06867c954f028eacf5</td>\n",
       "      <td>cdc7fe855cb74caca7dc08c87cf19795</td>\n",
       "    </tr>\n",
       "  </tbody>\n",
       "</table>\n",
       "</div>"
      ],
      "text/plain": [
       "                          Client ID                     Client_Secret\n",
       "0  41073413adc84c06867c954f028eacf5  cdc7fe855cb74caca7dc08c87cf19795"
      ]
     },
     "execution_count": 34,
     "metadata": {},
     "output_type": "execute_result"
    }
   ],
   "source": [
    "keys"
   ]
  },
  {
   "cell_type": "code",
   "execution_count": 35,
   "id": "90d67bbd",
   "metadata": {},
   "outputs": [],
   "source": [
    "appid = keys['Client ID'][0]"
   ]
  },
  {
   "cell_type": "code",
   "execution_count": 36,
   "id": "92d0d37b",
   "metadata": {},
   "outputs": [],
   "source": [
    "appsecret = keys['Client_Secret'][0]"
   ]
  },
  {
   "cell_type": "code",
   "execution_count": 37,
   "id": "8338151c",
   "metadata": {},
   "outputs": [],
   "source": [
    "client_cred = base64.b64encode(str(appid + \":\" + appsecret).encode('ascii'))"
   ]
  },
  {
   "cell_type": "code",
   "execution_count": 38,
   "id": "a06068de",
   "metadata": {},
   "outputs": [
    {
     "data": {
      "text/plain": [
       "b'NDEwNzM0MTNhZGM4NGMwNjg2N2M5NTRmMDI4ZWFjZjU6Y2RjN2ZlODU1Y2I3NGNhY2E3ZGMwOGM4N2NmMTk3OTU='"
      ]
     },
     "execution_count": 38,
     "metadata": {},
     "output_type": "execute_result"
    }
   ],
   "source": [
    "client_cred"
   ]
  },
  {
   "cell_type": "code",
   "execution_count": 39,
   "id": "3994315b",
   "metadata": {},
   "outputs": [],
   "source": [
    "header = {'Authorization': 'Basic {}'.format(client_cred.decode('ascii'))}"
   ]
  },
  {
   "cell_type": "code",
   "execution_count": 40,
   "id": "d55beaba",
   "metadata": {},
   "outputs": [],
   "source": [
    "payload = {'grant_type': 'client_credentials'}\n",
    "access_token_url = 'https://accounts.spotify.com/api/token'"
   ]
  },
  {
   "cell_type": "code",
   "execution_count": 41,
   "id": "8be59a9b",
   "metadata": {},
   "outputs": [],
   "source": [
    "response = requests.post(access_token_url, headers = header, data = payload)"
   ]
  },
  {
   "cell_type": "code",
   "execution_count": 42,
   "id": "76d45c06",
   "metadata": {},
   "outputs": [
    {
     "data": {
      "text/plain": [
       "200"
      ]
     },
     "execution_count": 42,
     "metadata": {},
     "output_type": "execute_result"
    }
   ],
   "source": [
    "response.status_code"
   ]
  },
  {
   "cell_type": "code",
   "execution_count": 43,
   "id": "f4cee08e",
   "metadata": {},
   "outputs": [
    {
     "data": {
      "text/plain": [
       "'{\"access_token\":\"BQBVJGrHUxuLOiJOvX1W7xZPEwUBdiE8EbP7yIKblaP6ppYVy6bWEsvh4zViwOlLWU7Jg-s1-u1hc1XX68thziF-gQPU7_AHqtROgixk4uCjkKUgbRY\",\"token_type\":\"Bearer\",\"expires_in\":3600}'"
      ]
     },
     "execution_count": 43,
     "metadata": {},
     "output_type": "execute_result"
    }
   ],
   "source": [
    "response.text"
   ]
  },
  {
   "cell_type": "code",
   "execution_count": 44,
   "id": "aab564bd",
   "metadata": {},
   "outputs": [],
   "source": [
    "session_token = response.json()['access_token']"
   ]
  },
  {
   "cell_type": "code",
   "execution_count": 45,
   "id": "42b7b46b",
   "metadata": {},
   "outputs": [],
   "source": [
    "session_header = {'Authorization' : 'Bearer {}'.format(response.json()['access_token'])}"
   ]
  },
  {
   "cell_type": "code",
   "execution_count": 46,
   "id": "5d303803",
   "metadata": {},
   "outputs": [],
   "source": [
    "playlist_feature_endpoint = \"https://api.spotify.com/v1/playlists/{}\".format('5CTygC3aONv7l0klY4k3hc')"
   ]
  },
  {
   "cell_type": "code",
   "execution_count": 47,
   "id": "e4514942",
   "metadata": {},
   "outputs": [],
   "source": [
    "christmas_id = '5HVbVbOUEKH63tm9XiZUqe'"
   ]
  },
  {
   "cell_type": "code",
   "execution_count": 48,
   "id": "3922bcb5",
   "metadata": {},
   "outputs": [
    {
     "data": {
      "text/plain": [
       "200"
      ]
     },
     "execution_count": 48,
     "metadata": {},
     "output_type": "execute_result"
    }
   ],
   "source": [
    "response.status_code"
   ]
  },
  {
   "cell_type": "code",
   "execution_count": null,
   "id": "ffae9a00",
   "metadata": {},
   "outputs": [],
   "source": []
  }
 ],
 "metadata": {
  "kernelspec": {
   "display_name": "Python 3 (ipykernel)",
   "language": "python",
   "name": "python3"
  },
  "language_info": {
   "codemirror_mode": {
    "name": "ipython",
    "version": 3
   },
   "file_extension": ".py",
   "mimetype": "text/x-python",
   "name": "python",
   "nbconvert_exporter": "python",
   "pygments_lexer": "ipython3",
   "version": "3.10.4"
  }
 },
 "nbformat": 4,
 "nbformat_minor": 5
}
